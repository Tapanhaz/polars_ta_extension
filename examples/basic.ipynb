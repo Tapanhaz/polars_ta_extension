{
 "cells": [
  {
   "cell_type": "code",
   "execution_count": 1,
   "metadata": {},
   "outputs": [],
   "source": [
    "import yfinance as yf\n",
    "import polars as pl\n",
    "import polars_talib as plta\n",
    "import pandas as pd\n",
    "import talib.abstract as ta"
   ]
  },
  {
   "cell_type": "markdown",
   "metadata": {},
   "source": [
    "### Download stock data and save as parquet"
   ]
  },
  {
   "cell_type": "code",
   "execution_count": 2,
   "metadata": {},
   "outputs": [],
   "source": [
    "tickers = pl.scan_csv(\"nasdaq_screener.csv\").sort(\"Market Cap\", descending=True).filter(\n",
    "    pl.col(\"Market Cap\").is_not_null() & (pl.col(\"Market Cap\") > 0)\n",
    ").select(pl.col(\"Symbol\").str.strip_chars(\" \"), pl.col(\"Market Cap\")).collect()[\"Symbol\"].to_list()"
   ]
  },
  {
   "cell_type": "code",
   "execution_count": 3,
   "metadata": {},
   "outputs": [
    {
     "name": "stderr",
     "output_type": "stream",
     "text": [
      "[*********             18%%                      ]  362 of 2000 completedFailed to get ticker 'BRK/B' reason: Expecting value: line 1 column 1 (char 0)\n",
      "[*****************     35%%                      ]  695 of 2000 completed"
     ]
    },
    {
     "name": "stdout",
     "output_type": "stream",
     "text": [
      "$EAI: possibly delisted; No price data found  (1d 2001-01-01 -> 2024-12-31)\n"
     ]
    },
    {
     "name": "stderr",
     "output_type": "stream",
     "text": [
      "[**********************47%%                      ]  934 of 2000 completedFailed to get ticker 'BRK/A' reason: Expecting value: line 1 column 1 (char 0)\n",
      "[**********************95%%********************  ]  1909 of 2000 completed"
     ]
    },
    {
     "name": "stdout",
     "output_type": "stream",
     "text": [
      "$EMP: possibly delisted; No price data found  (1d 2001-01-01 -> 2024-12-31)\n"
     ]
    },
    {
     "name": "stderr",
     "output_type": "stream",
     "text": [
      "[*********************100%%**********************]  2000 of 2000 completed\n",
      "\n",
      "6 Failed downloads:\n",
      "['SFB', 'DHCNL']: YFInvalidPeriodError(\"%ticker%: Period 'max' is invalid, must be one of ['1d', '5d']\")\n",
      "['BRK/B', 'BRK/A']: YFTzMissingError('$%ticker%: possibly delisted; No timezone found')\n",
      "['EAI', 'EMP']: YFPricesMissingError('$%ticker%: possibly delisted; No price data found  (1d 2001-01-01 -> 2024-12-31)')\n"
     ]
    }
   ],
   "source": [
    "data = yf.download(tickers[:2000], start='2001-01-01', end='2024-12-31', group_by='ticker', threads=32).stack(level=0).reset_index()"
   ]
  },
  {
   "cell_type": "code",
   "execution_count": 4,
   "metadata": {},
   "outputs": [],
   "source": [
    "df = pl.from_pandas(data).with_columns(\n",
    "    pl.col(\"Date\").cast(pl.Date),\n",
    ")"
   ]
  },
  {
   "cell_type": "code",
   "execution_count": 5,
   "metadata": {},
   "outputs": [],
   "source": [
    "df.write_parquet(\"us_market_cap2000.parquet\")"
   ]
  },
  {
   "cell_type": "markdown",
   "metadata": {},
   "source": [
    "### Let's look at the syntax of polars talib and check the performace"
   ]
  },
  {
   "cell_type": "markdown",
   "metadata": {},
   "source": [
    "This code demonstrates a convenient method to convert all column names of type float to lowercase. \n",
    "This allows us to use functions similar to talib abstract without needing to explicitly specify column names, enabling the use of default column name."
   ]
  },
  {
   "cell_type": "code",
   "execution_count": 6,
   "metadata": {},
   "outputs": [],
   "source": [
    "p = pl.scan_parquet(\"us_market_cap2000.parquet\").select(\n",
    "    pl.col(\"Date\"), pl.col(\"Ticker\").alias(\"Symbol\"),\n",
    "    pl.selectors.float().name.to_lowercase()\n",
    ")"
   ]
  },
  {
   "cell_type": "markdown",
   "metadata": {},
   "source": [
    "#### This is the simple example how to use polars_talib\n",
    "Using the `over` syntax, you can easily apply SMA to each symbol, and this operation, including reading the file and transforming and calculating, takes only 139 ms."
   ]
  },
  {
   "cell_type": "code",
   "execution_count": 8,
   "metadata": {},
   "outputs": [
    {
     "name": "stdout",
     "output_type": "stream",
     "text": [
      "139 ms ± 5.76 ms per loop (mean ± std. dev. of 7 runs, 1 loop each)\n"
     ]
    }
   ],
   "source": [
    "%%timeit\n",
    "df = p.with_columns(\n",
    "    plta.sma(timeperiod=5).over(\"Symbol\").alias(\"sma5\"),\n",
    ").filter(\n",
    "    pl.col(\"Symbol\") == \"NVDA\"\n",
    ").collect()"
   ]
  },
  {
   "cell_type": "markdown",
   "metadata": {},
   "source": [
    "With pandas, just reading the file and transforming the column names to lowercase takes 1.21 seconds."
   ]
  },
  {
   "cell_type": "code",
   "execution_count": 9,
   "metadata": {},
   "outputs": [
    {
     "name": "stdout",
     "output_type": "stream",
     "text": [
      "1.21 s ± 62.5 ms per loop (mean ± std. dev. of 7 runs, 1 loop each)\n"
     ]
    }
   ],
   "source": [
    "%%timeit\n",
    "df = pd.read_parquet(\"us_market_cap2000.parquet\").set_index([\"Ticker\", \"Date\"]).rename(\n",
    "    columns={c: c.lower() for c in [\"Open\", \"High\", \"Low\", \"Close\"]}\n",
    ")"
   ]
  },
  {
   "cell_type": "code",
   "execution_count": 10,
   "metadata": {},
   "outputs": [],
   "source": [
    "df = pd.read_parquet(\"us_market_cap2000.parquet\").set_index([\"Ticker\", \"Date\"]).rename(\n",
    "    columns={c: c.lower() for c in [\"Open\", \"High\", \"Low\", \"Close\"]}\n",
    ")"
   ]
  },
  {
   "cell_type": "markdown",
   "metadata": {},
   "source": [
    "There are two ways to perform the calculation: using transform and using apply. The transform method is faster, so we will use transform whenever possible. For cases where transform cannot be used, we will resort to apply. The difference in calculation speeds can be seen in the results below."
   ]
  },
  {
   "cell_type": "code",
   "execution_count": 11,
   "metadata": {},
   "outputs": [
    {
     "name": "stdout",
     "output_type": "stream",
     "text": [
      "1.84 s ± 62.3 ms per loop (mean ± std. dev. of 7 runs, 1 loop each)\n"
     ]
    }
   ],
   "source": [
    "%%timeit\n",
    "df[\"sma5\"] = df.groupby(\"Ticker\")[\"close\"].transform(lambda x: ta.SMA(x, timeperiod=5))"
   ]
  },
  {
   "cell_type": "code",
   "execution_count": 12,
   "metadata": {},
   "outputs": [
    {
     "name": "stdout",
     "output_type": "stream",
     "text": [
      "3.15 s ± 56.3 ms per loop (mean ± std. dev. of 7 runs, 1 loop each)\n"
     ]
    }
   ],
   "source": [
    "%%timeit\n",
    "df[\"sma5\"] = df.groupby(\"Ticker\").apply(lambda x: ta.SMA(x, timeperiod=5)).droplevel(0)"
   ]
  },
  {
   "cell_type": "markdown",
   "metadata": {},
   "source": [
    "Performance Summary\n",
    "\n",
    "    • pandas with transform: 1.84 seconds + 1.21 seconds = 3.05 seconds (22 times slower)\n",
    "    • pandas with apply: 3.15 seconds + 1.21 seconds = 4.36 seconds (31 times slower)\n",
    "    • polars with over syntax and optimized by query plan: 0.139 seconds\n",
    "\n",
    "polars is significantly faster than pandas for these operations, including reading the file and performing the analysis.\n"
   ]
  },
  {
   "cell_type": "markdown",
   "metadata": {},
   "source": [
    "Let’s explore different talib functions with varying inputs and outputs and compare their usage in polars versus pandas. Some functions have multiple outputs rather than a single series, and we will demonstrate how polars offers a consistent syntax for using these functions conveniently."
   ]
  },
  {
   "cell_type": "markdown",
   "metadata": {},
   "source": [
    "This operation, including reading the file and transforming and calculating the output, takes only 135 milliseconds."
   ]
  },
  {
   "cell_type": "code",
   "execution_count": null,
   "metadata": {},
   "outputs": [
    {
     "name": "stdout",
     "output_type": "stream",
     "text": [
      "135 ms ± 5.6 ms per loop (mean ± std. dev. of 7 runs, 1 loop each)\n"
     ]
    }
   ],
   "source": [
    "%%timeit\n",
    "df = p.with_columns(\n",
    "    plta.sma(timeperiod=5).over(\"Symbol\").alias(\"sma5\"),\n",
    "    plta.macd(fastperiod=10, slowperiod=20, signalperiod=5).over(\"Symbol\").alias(\"macd\"),\n",
    "    plta.stoch(pl.col(\"high\"), pl.col(\"low\"), pl.col(\"close\"), fastk_period=14, slowk_period=7, slowd_period=7).over(\"Symbol\").alias(\"stoch\"),\n",
    "    plta.wclprice().over(\"Symbol\").alias(\"wclprice\"),\n",
    ").with_columns(\n",
    "    pl.col(\"macd\").struct.field(\"macd\"),\n",
    "    pl.col(\"macd\").struct.field(\"macdsignal\"),\n",
    "    pl.col(\"macd\").struct.field(\"macdhist\"),\n",
    "    pl.col(\"stoch\").struct.field(\"slowk\"),\n",
    "    pl.col(\"stoch\").struct.field(\"slowd\"),\n",
    ").select(\n",
    "    pl.exclude(\"stoch\")\n",
    ").filter(\n",
    "    pl.col(\"Symbol\") == \"AAPL\"\n",
    ").collect()"
   ]
  },
  {
   "cell_type": "markdown",
   "metadata": {},
   "source": [
    "In pandas, handling multiple outputs from talib functions requires more steps and different syntax, which can be inconsistent and confusing.\n",
    "\n",
    "It takes approximately 19.2 seconds, showcasing the inefficiency and inconsistency of pandas syntax."
   ]
  },
  {
   "cell_type": "code",
   "execution_count": 13,
   "metadata": {},
   "outputs": [
    {
     "name": "stdout",
     "output_type": "stream",
     "text": [
      "19.2 s ± 367 ms per loop (mean ± std. dev. of 7 runs, 1 loop each)\n"
     ]
    }
   ],
   "source": [
    "%%timeit\n",
    "df[\"sma5\"] = df.groupby(\"Ticker\")[\"close\"].transform(lambda x: ta.SMA(x, timeperiod=5))\n",
    "df[\"macd\"] = df.groupby(\"Ticker\")[\"close\"].transform(lambda x: ta.MACD(x, fastperiod=10, slowperiod=20, signalperiod=5)[0])\n",
    "df[\"macdsignal\"] = df.groupby(\"Ticker\")[\"close\"].transform(lambda x: ta.MACD(x, fastperiod=10, slowperiod=20, signalperiod=5)[1])\n",
    "df[\"macdhist\"] = df.groupby(\"Ticker\")[\"close\"].transform(lambda x: ta.MACD(x, fastperiod=10, slowperiod=20, signalperiod=5)[2])\n",
    "df[\"slowk\"] = df.groupby(\"Ticker\").apply(lambda x: ta.STOCH(x, fastk_period=14, slowk_period=7, slowd_period=7)).droplevel(0)[\"slowk\"] \n",
    "df[\"slowd\"] = df.groupby(\"Ticker\").apply(lambda x: ta.STOCH(x, fastk_period=14, slowk_period=7, slowd_period=7)).droplevel(0)[\"slowd\"]\n",
    "df[\"wclprice\"] = df.groupby(\"Ticker\").apply(lambda x: ta.WCLPRICE(x)).droplevel(0)"
   ]
  },
  {
   "cell_type": "code",
   "execution_count": 23,
   "metadata": {},
   "outputs": [
    {
     "data": {
      "text/html": [
       "<div>\n",
       "<style scoped>\n",
       "    .dataframe tbody tr th:only-of-type {\n",
       "        vertical-align: middle;\n",
       "    }\n",
       "\n",
       "    .dataframe tbody tr th {\n",
       "        vertical-align: top;\n",
       "    }\n",
       "\n",
       "    .dataframe thead th {\n",
       "        text-align: right;\n",
       "    }\n",
       "</style>\n",
       "<table border=\"1\" class=\"dataframe\">\n",
       "  <thead>\n",
       "    <tr style=\"text-align: right;\">\n",
       "      <th></th>\n",
       "      <th>Adj Close</th>\n",
       "      <th>close</th>\n",
       "      <th>high</th>\n",
       "      <th>low</th>\n",
       "      <th>open</th>\n",
       "      <th>Volume</th>\n",
       "      <th>sma5</th>\n",
       "      <th>macd</th>\n",
       "      <th>macdsignal</th>\n",
       "      <th>macdhist</th>\n",
       "      <th>slowk</th>\n",
       "      <th>slowd</th>\n",
       "      <th>wclprice</th>\n",
       "    </tr>\n",
       "    <tr>\n",
       "      <th>Date</th>\n",
       "      <th></th>\n",
       "      <th></th>\n",
       "      <th></th>\n",
       "      <th></th>\n",
       "      <th></th>\n",
       "      <th></th>\n",
       "      <th></th>\n",
       "      <th></th>\n",
       "      <th></th>\n",
       "      <th></th>\n",
       "      <th></th>\n",
       "      <th></th>\n",
       "      <th></th>\n",
       "    </tr>\n",
       "  </thead>\n",
       "  <tbody>\n",
       "    <tr>\n",
       "      <th>2001-01-02</th>\n",
       "      <td>0.228412</td>\n",
       "      <td>0.265625</td>\n",
       "      <td>0.272321</td>\n",
       "      <td>0.260045</td>\n",
       "      <td>0.265625</td>\n",
       "      <td>452312000.0</td>\n",
       "      <td>NaN</td>\n",
       "      <td>NaN</td>\n",
       "      <td>NaN</td>\n",
       "      <td>NaN</td>\n",
       "      <td>NaN</td>\n",
       "      <td>NaN</td>\n",
       "      <td>0.265904</td>\n",
       "    </tr>\n",
       "    <tr>\n",
       "      <th>2001-01-03</th>\n",
       "      <td>0.251445</td>\n",
       "      <td>0.292411</td>\n",
       "      <td>0.297991</td>\n",
       "      <td>0.257813</td>\n",
       "      <td>0.258929</td>\n",
       "      <td>817073600.0</td>\n",
       "      <td>NaN</td>\n",
       "      <td>NaN</td>\n",
       "      <td>NaN</td>\n",
       "      <td>NaN</td>\n",
       "      <td>NaN</td>\n",
       "      <td>NaN</td>\n",
       "      <td>0.285157</td>\n",
       "    </tr>\n",
       "    <tr>\n",
       "      <th>2001-01-04</th>\n",
       "      <td>0.262002</td>\n",
       "      <td>0.304688</td>\n",
       "      <td>0.330357</td>\n",
       "      <td>0.300223</td>\n",
       "      <td>0.323940</td>\n",
       "      <td>739396000.0</td>\n",
       "      <td>NaN</td>\n",
       "      <td>NaN</td>\n",
       "      <td>NaN</td>\n",
       "      <td>NaN</td>\n",
       "      <td>NaN</td>\n",
       "      <td>NaN</td>\n",
       "      <td>0.309989</td>\n",
       "    </tr>\n",
       "    <tr>\n",
       "      <th>2001-01-05</th>\n",
       "      <td>0.251445</td>\n",
       "      <td>0.292411</td>\n",
       "      <td>0.310268</td>\n",
       "      <td>0.286830</td>\n",
       "      <td>0.302455</td>\n",
       "      <td>412356000.0</td>\n",
       "      <td>NaN</td>\n",
       "      <td>NaN</td>\n",
       "      <td>NaN</td>\n",
       "      <td>NaN</td>\n",
       "      <td>NaN</td>\n",
       "      <td>NaN</td>\n",
       "      <td>0.295480</td>\n",
       "    </tr>\n",
       "    <tr>\n",
       "      <th>2001-01-08</th>\n",
       "      <td>0.254324</td>\n",
       "      <td>0.295759</td>\n",
       "      <td>0.303292</td>\n",
       "      <td>0.284598</td>\n",
       "      <td>0.302455</td>\n",
       "      <td>373699200.0</td>\n",
       "      <td>0.290179</td>\n",
       "      <td>NaN</td>\n",
       "      <td>NaN</td>\n",
       "      <td>NaN</td>\n",
       "      <td>NaN</td>\n",
       "      <td>NaN</td>\n",
       "      <td>0.294852</td>\n",
       "    </tr>\n",
       "    <tr>\n",
       "      <th>...</th>\n",
       "      <td>...</td>\n",
       "      <td>...</td>\n",
       "      <td>...</td>\n",
       "      <td>...</td>\n",
       "      <td>...</td>\n",
       "      <td>...</td>\n",
       "      <td>...</td>\n",
       "      <td>...</td>\n",
       "      <td>...</td>\n",
       "      <td>...</td>\n",
       "      <td>...</td>\n",
       "      <td>...</td>\n",
       "      <td>...</td>\n",
       "    </tr>\n",
       "    <tr>\n",
       "      <th>2024-05-29</th>\n",
       "      <td>190.289993</td>\n",
       "      <td>190.289993</td>\n",
       "      <td>192.250000</td>\n",
       "      <td>189.509995</td>\n",
       "      <td>189.610001</td>\n",
       "      <td>53068000.0</td>\n",
       "      <td>189.607999</td>\n",
       "      <td>3.279104</td>\n",
       "      <td>3.631761</td>\n",
       "      <td>-0.352657</td>\n",
       "      <td>79.339054</td>\n",
       "      <td>88.250096</td>\n",
       "      <td>190.584995</td>\n",
       "    </tr>\n",
       "    <tr>\n",
       "      <th>2024-05-30</th>\n",
       "      <td>191.289993</td>\n",
       "      <td>191.289993</td>\n",
       "      <td>192.179993</td>\n",
       "      <td>190.630005</td>\n",
       "      <td>190.759995</td>\n",
       "      <td>49947900.0</td>\n",
       "      <td>189.685999</td>\n",
       "      <td>3.173640</td>\n",
       "      <td>3.479054</td>\n",
       "      <td>-0.305414</td>\n",
       "      <td>77.642846</td>\n",
       "      <td>85.987470</td>\n",
       "      <td>191.347496</td>\n",
       "    </tr>\n",
       "    <tr>\n",
       "      <th>2024-05-31</th>\n",
       "      <td>192.250000</td>\n",
       "      <td>192.250000</td>\n",
       "      <td>192.570007</td>\n",
       "      <td>189.910004</td>\n",
       "      <td>191.440002</td>\n",
       "      <td>75158300.0</td>\n",
       "      <td>190.759998</td>\n",
       "      <td>3.123732</td>\n",
       "      <td>3.360613</td>\n",
       "      <td>-0.236881</td>\n",
       "      <td>76.612846</td>\n",
       "      <td>83.248118</td>\n",
       "      <td>191.745003</td>\n",
       "    </tr>\n",
       "    <tr>\n",
       "      <th>2024-06-03</th>\n",
       "      <td>194.029999</td>\n",
       "      <td>194.029999</td>\n",
       "      <td>194.990005</td>\n",
       "      <td>192.520004</td>\n",
       "      <td>192.899994</td>\n",
       "      <td>50080500.0</td>\n",
       "      <td>191.569998</td>\n",
       "      <td>3.186809</td>\n",
       "      <td>3.302678</td>\n",
       "      <td>-0.115870</td>\n",
       "      <td>77.248478</td>\n",
       "      <td>80.835460</td>\n",
       "      <td>193.892502</td>\n",
       "    </tr>\n",
       "    <tr>\n",
       "      <th>2024-06-04</th>\n",
       "      <td>194.350006</td>\n",
       "      <td>194.350006</td>\n",
       "      <td>195.320007</td>\n",
       "      <td>193.029999</td>\n",
       "      <td>194.639999</td>\n",
       "      <td>45372900.0</td>\n",
       "      <td>192.441998</td>\n",
       "      <td>3.206025</td>\n",
       "      <td>3.270461</td>\n",
       "      <td>-0.064435</td>\n",
       "      <td>82.497184</td>\n",
       "      <td>80.062119</td>\n",
       "      <td>194.262505</td>\n",
       "    </tr>\n",
       "  </tbody>\n",
       "</table>\n",
       "<p>5892 rows × 13 columns</p>\n",
       "</div>"
      ],
      "text/plain": [
       "             Adj Close       close        high         low        open  \\\n",
       "Date                                                                     \n",
       "2001-01-02    0.228412    0.265625    0.272321    0.260045    0.265625   \n",
       "2001-01-03    0.251445    0.292411    0.297991    0.257813    0.258929   \n",
       "2001-01-04    0.262002    0.304688    0.330357    0.300223    0.323940   \n",
       "2001-01-05    0.251445    0.292411    0.310268    0.286830    0.302455   \n",
       "2001-01-08    0.254324    0.295759    0.303292    0.284598    0.302455   \n",
       "...                ...         ...         ...         ...         ...   \n",
       "2024-05-29  190.289993  190.289993  192.250000  189.509995  189.610001   \n",
       "2024-05-30  191.289993  191.289993  192.179993  190.630005  190.759995   \n",
       "2024-05-31  192.250000  192.250000  192.570007  189.910004  191.440002   \n",
       "2024-06-03  194.029999  194.029999  194.990005  192.520004  192.899994   \n",
       "2024-06-04  194.350006  194.350006  195.320007  193.029999  194.639999   \n",
       "\n",
       "                 Volume        sma5      macd  macdsignal  macdhist  \\\n",
       "Date                                                                  \n",
       "2001-01-02  452312000.0         NaN       NaN         NaN       NaN   \n",
       "2001-01-03  817073600.0         NaN       NaN         NaN       NaN   \n",
       "2001-01-04  739396000.0         NaN       NaN         NaN       NaN   \n",
       "2001-01-05  412356000.0         NaN       NaN         NaN       NaN   \n",
       "2001-01-08  373699200.0    0.290179       NaN         NaN       NaN   \n",
       "...                 ...         ...       ...         ...       ...   \n",
       "2024-05-29   53068000.0  189.607999  3.279104    3.631761 -0.352657   \n",
       "2024-05-30   49947900.0  189.685999  3.173640    3.479054 -0.305414   \n",
       "2024-05-31   75158300.0  190.759998  3.123732    3.360613 -0.236881   \n",
       "2024-06-03   50080500.0  191.569998  3.186809    3.302678 -0.115870   \n",
       "2024-06-04   45372900.0  192.441998  3.206025    3.270461 -0.064435   \n",
       "\n",
       "                slowk      slowd    wclprice  \n",
       "Date                                          \n",
       "2001-01-02        NaN        NaN    0.265904  \n",
       "2001-01-03        NaN        NaN    0.285157  \n",
       "2001-01-04        NaN        NaN    0.309989  \n",
       "2001-01-05        NaN        NaN    0.295480  \n",
       "2001-01-08        NaN        NaN    0.294852  \n",
       "...               ...        ...         ...  \n",
       "2024-05-29  79.339054  88.250096  190.584995  \n",
       "2024-05-30  77.642846  85.987470  191.347496  \n",
       "2024-05-31  76.612846  83.248118  191.745003  \n",
       "2024-06-03  77.248478  80.835460  193.892502  \n",
       "2024-06-04  82.497184  80.062119  194.262505  \n",
       "\n",
       "[5892 rows x 13 columns]"
      ]
     },
     "execution_count": 23,
     "metadata": {},
     "output_type": "execute_result"
    }
   ],
   "source": [
    "df.loc[\"AAPL\"]"
   ]
  },
  {
   "cell_type": "code",
   "execution_count": 22,
   "metadata": {},
   "outputs": [
    {
     "data": {
      "text/html": [
       "<div><style>\n",
       ".dataframe > thead > tr,\n",
       ".dataframe > tbody > tr {\n",
       "  text-align: right;\n",
       "  white-space: pre-wrap;\n",
       "}\n",
       "</style>\n",
       "<small>shape: (5_892, 15)</small><table border=\"1\" class=\"dataframe\"><thead><tr><th>Date</th><th>Symbol</th><th>adj close</th><th>close</th><th>high</th><th>low</th><th>open</th><th>volume</th><th>sma5</th><th>macd</th><th>wclprice</th><th>macdsignal</th><th>macdhist</th><th>slowk</th><th>slowd</th></tr><tr><td>date</td><td>str</td><td>f64</td><td>f64</td><td>f64</td><td>f64</td><td>f64</td><td>f64</td><td>f64</td><td>f64</td><td>f64</td><td>f64</td><td>f64</td><td>f64</td><td>f64</td></tr></thead><tbody><tr><td>2001-01-02</td><td>&quot;AAPL&quot;</td><td>0.228412</td><td>0.265625</td><td>0.272321</td><td>0.260045</td><td>0.265625</td><td>4.52312e8</td><td>NaN</td><td>NaN</td><td>0.265904</td><td>NaN</td><td>NaN</td><td>NaN</td><td>NaN</td></tr><tr><td>2001-01-03</td><td>&quot;AAPL&quot;</td><td>0.251445</td><td>0.292411</td><td>0.297991</td><td>0.257813</td><td>0.258929</td><td>8.170736e8</td><td>NaN</td><td>NaN</td><td>0.285157</td><td>NaN</td><td>NaN</td><td>NaN</td><td>NaN</td></tr><tr><td>2001-01-04</td><td>&quot;AAPL&quot;</td><td>0.262002</td><td>0.304688</td><td>0.330357</td><td>0.300223</td><td>0.32394</td><td>7.39396e8</td><td>NaN</td><td>NaN</td><td>0.309989</td><td>NaN</td><td>NaN</td><td>NaN</td><td>NaN</td></tr><tr><td>2001-01-05</td><td>&quot;AAPL&quot;</td><td>0.251445</td><td>0.292411</td><td>0.310268</td><td>0.28683</td><td>0.302455</td><td>4.12356e8</td><td>NaN</td><td>NaN</td><td>0.29548</td><td>NaN</td><td>NaN</td><td>NaN</td><td>NaN</td></tr><tr><td>2001-01-08</td><td>&quot;AAPL&quot;</td><td>0.254324</td><td>0.295759</td><td>0.303292</td><td>0.284598</td><td>0.302455</td><td>3.736992e8</td><td>0.290179</td><td>NaN</td><td>0.294852</td><td>NaN</td><td>NaN</td><td>NaN</td><td>NaN</td></tr><tr><td>&hellip;</td><td>&hellip;</td><td>&hellip;</td><td>&hellip;</td><td>&hellip;</td><td>&hellip;</td><td>&hellip;</td><td>&hellip;</td><td>&hellip;</td><td>&hellip;</td><td>&hellip;</td><td>&hellip;</td><td>&hellip;</td><td>&hellip;</td><td>&hellip;</td></tr><tr><td>2024-05-29</td><td>&quot;AAPL&quot;</td><td>190.289993</td><td>190.289993</td><td>192.25</td><td>189.509995</td><td>189.610001</td><td>5.3068e7</td><td>189.607999</td><td>3.279104</td><td>190.584995</td><td>3.631761</td><td>-0.352657</td><td>79.339054</td><td>88.250096</td></tr><tr><td>2024-05-30</td><td>&quot;AAPL&quot;</td><td>191.289993</td><td>191.289993</td><td>192.179993</td><td>190.630005</td><td>190.759995</td><td>4.99479e7</td><td>189.685999</td><td>3.17364</td><td>191.347496</td><td>3.479054</td><td>-0.305414</td><td>77.642846</td><td>85.98747</td></tr><tr><td>2024-05-31</td><td>&quot;AAPL&quot;</td><td>192.25</td><td>192.25</td><td>192.570007</td><td>189.910004</td><td>191.440002</td><td>7.51583e7</td><td>190.759998</td><td>3.123732</td><td>191.745003</td><td>3.360613</td><td>-0.236881</td><td>76.612846</td><td>83.248118</td></tr><tr><td>2024-06-03</td><td>&quot;AAPL&quot;</td><td>194.029999</td><td>194.029999</td><td>194.990005</td><td>192.520004</td><td>192.899994</td><td>5.00805e7</td><td>191.569998</td><td>3.186809</td><td>193.892502</td><td>3.302678</td><td>-0.11587</td><td>77.248478</td><td>80.83546</td></tr><tr><td>2024-06-04</td><td>&quot;AAPL&quot;</td><td>194.350006</td><td>194.350006</td><td>195.320007</td><td>193.029999</td><td>194.639999</td><td>4.53729e7</td><td>192.441998</td><td>3.206025</td><td>194.262505</td><td>3.270461</td><td>-0.064435</td><td>82.497184</td><td>80.062119</td></tr></tbody></table></div>"
      ],
      "text/plain": [
       "shape: (5_892, 15)\n",
       "┌────────────┬────────┬────────────┬───────────┬───┬───────────┬───────────┬───────────┬───────────┐\n",
       "│ Date       ┆ Symbol ┆ adj close  ┆ close     ┆ … ┆ macdsigna ┆ macdhist  ┆ slowk     ┆ slowd     │\n",
       "│ ---        ┆ ---    ┆ ---        ┆ ---       ┆   ┆ l         ┆ ---       ┆ ---       ┆ ---       │\n",
       "│ date       ┆ str    ┆ f64        ┆ f64       ┆   ┆ ---       ┆ f64       ┆ f64       ┆ f64       │\n",
       "│            ┆        ┆            ┆           ┆   ┆ f64       ┆           ┆           ┆           │\n",
       "╞════════════╪════════╪════════════╪═══════════╪═══╪═══════════╪═══════════╪═══════════╪═══════════╡\n",
       "│ 2001-01-02 ┆ AAPL   ┆ 0.228412   ┆ 0.265625  ┆ … ┆ NaN       ┆ NaN       ┆ NaN       ┆ NaN       │\n",
       "│ 2001-01-03 ┆ AAPL   ┆ 0.251445   ┆ 0.292411  ┆ … ┆ NaN       ┆ NaN       ┆ NaN       ┆ NaN       │\n",
       "│ 2001-01-04 ┆ AAPL   ┆ 0.262002   ┆ 0.304688  ┆ … ┆ NaN       ┆ NaN       ┆ NaN       ┆ NaN       │\n",
       "│ 2001-01-05 ┆ AAPL   ┆ 0.251445   ┆ 0.292411  ┆ … ┆ NaN       ┆ NaN       ┆ NaN       ┆ NaN       │\n",
       "│ 2001-01-08 ┆ AAPL   ┆ 0.254324   ┆ 0.295759  ┆ … ┆ NaN       ┆ NaN       ┆ NaN       ┆ NaN       │\n",
       "│ …          ┆ …      ┆ …          ┆ …         ┆ … ┆ …         ┆ …         ┆ …         ┆ …         │\n",
       "│ 2024-05-29 ┆ AAPL   ┆ 190.289993 ┆ 190.28999 ┆ … ┆ 3.631761  ┆ -0.352657 ┆ 79.339054 ┆ 88.250096 │\n",
       "│            ┆        ┆            ┆ 3         ┆   ┆           ┆           ┆           ┆           │\n",
       "│ 2024-05-30 ┆ AAPL   ┆ 191.289993 ┆ 191.28999 ┆ … ┆ 3.479054  ┆ -0.305414 ┆ 77.642846 ┆ 85.98747  │\n",
       "│            ┆        ┆            ┆ 3         ┆   ┆           ┆           ┆           ┆           │\n",
       "│ 2024-05-31 ┆ AAPL   ┆ 192.25     ┆ 192.25    ┆ … ┆ 3.360613  ┆ -0.236881 ┆ 76.612846 ┆ 83.248118 │\n",
       "│ 2024-06-03 ┆ AAPL   ┆ 194.029999 ┆ 194.02999 ┆ … ┆ 3.302678  ┆ -0.11587  ┆ 77.248478 ┆ 80.83546  │\n",
       "│            ┆        ┆            ┆ 9         ┆   ┆           ┆           ┆           ┆           │\n",
       "│ 2024-06-04 ┆ AAPL   ┆ 194.350006 ┆ 194.35000 ┆ … ┆ 3.270461  ┆ -0.064435 ┆ 82.497184 ┆ 80.062119 │\n",
       "│            ┆        ┆            ┆ 6         ┆   ┆           ┆           ┆           ┆           │\n",
       "└────────────┴────────┴────────────┴───────────┴───┴───────────┴───────────┴───────────┴───────────┘"
      ]
     },
     "execution_count": 22,
     "metadata": {},
     "output_type": "execute_result"
    }
   ],
   "source": [
    "p.with_columns(\n",
    "    plta.sma(timeperiod=5).over(\"Symbol\").alias(\"sma5\"),\n",
    "    plta.macd(fastperiod=10, slowperiod=20, signalperiod=5).over(\"Symbol\").alias(\"macd\"),\n",
    "    plta.stoch(pl.col(\"high\"), pl.col(\"low\"), pl.col(\"close\"), fastk_period=14, slowk_period=7, slowd_period=7).over(\"Symbol\").alias(\"stoch\"),\n",
    "    plta.wclprice().over(\"Symbol\").alias(\"wclprice\"),\n",
    ").with_columns(\n",
    "    pl.col(\"macd\").struct.field(\"macd\"),\n",
    "    pl.col(\"macd\").struct.field(\"macdsignal\"),\n",
    "    pl.col(\"macd\").struct.field(\"macdhist\"),\n",
    "    pl.col(\"stoch\").struct.field(\"slowk\"),\n",
    "    pl.col(\"stoch\").struct.field(\"slowd\"),\n",
    ").select(\n",
    "    pl.exclude(\"stoch\")\n",
    ").filter(\n",
    "    pl.col(\"Symbol\") == \"AAPL\"\n",
    ").collect()"
   ]
  },
  {
   "cell_type": "code",
   "execution_count": 24,
   "metadata": {},
   "outputs": [
    {
     "data": {
      "text/plain": [
       "151.11111111111111"
      ]
     },
     "execution_count": 24,
     "metadata": {},
     "output_type": "execute_result"
    }
   ],
   "source": [
    "(1.2 + 19.2) * 1000 / 135"
   ]
  },
  {
   "cell_type": "markdown",
   "metadata": {},
   "source": [
    "The performance comparison between polars and pandas shows a significant speed difference. Here’s the detailed comparison:\n",
    "\n",
    "\t• pandas with transform and apply:\n",
    "\t• Reading the file: 1.2 seconds\n",
    "\t• Performing calculations: 19.2 seconds\n",
    "\t• Total time: 1.2 seconds + 19.2 seconds = 20.4 seconds\n",
    "\t• polars with over syntax and optimized by query plan:\n",
    "\t• Total time: 0.135 seconds\n",
    "\n",
    "Improvement Factor\n",
    "\n",
    "The speed improvement factor can be calculated as follows:\n",
    " $$\\text{Improvement Factor} = \\frac{20.4 \\text{ seconds} \\times 1000}{135 \\text{ milliseconds}} \\approx 151$$\n",
    "\n",
    "Thus, polars is approximately 151 times faster than pandas for these operations, including reading the file and performing the calculations.\n",
    "\n",
    "By comparing these methods, it is evident that polars offers a significant performance advantage over pandas for these types of calculations, with a consistent and streamlined syntax that reduces confusion and makes the code more maintainable."
   ]
  },
  {
   "cell_type": "code",
   "execution_count": null,
   "metadata": {},
   "outputs": [],
   "source": []
  },
  {
   "cell_type": "code",
   "execution_count": null,
   "metadata": {},
   "outputs": [],
   "source": []
  }
 ],
 "metadata": {
  "kernelspec": {
   "display_name": "dev",
   "language": "python",
   "name": "python3"
  },
  "language_info": {
   "codemirror_mode": {
    "name": "ipython",
    "version": 3
   },
   "file_extension": ".py",
   "mimetype": "text/x-python",
   "name": "python",
   "nbconvert_exporter": "python",
   "pygments_lexer": "ipython3",
   "version": "3.10.14"
  }
 },
 "nbformat": 4,
 "nbformat_minor": 2
}
