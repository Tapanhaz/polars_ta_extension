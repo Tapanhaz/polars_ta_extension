{
 "cells": [
  {
   "cell_type": "code",
   "execution_count": 1,
   "metadata": {},
   "outputs": [],
   "source": [
    "import time\n",
    "import polars as pl\n",
    "import polars_talib as plta\n",
    "import pandas as pd\n",
    "import talib.abstract as ta"
   ]
  },
  {
   "cell_type": "code",
   "execution_count": 2,
   "metadata": {},
   "outputs": [],
   "source": [
    "p = pl.scan_parquet(\"us_market_cap2000.parquet\").select(\n",
    "    pl.col(\"Date\"), pl.col(\"Ticker\").alias(\"Symbol\"), pl.selectors.float().name.to_lowercase()\n",
    ")"
   ]
  },
  {
   "cell_type": "code",
   "execution_count": 3,
   "metadata": {},
   "outputs": [],
   "source": [
    "spend_records = {}"
   ]
  },
  {
   "cell_type": "code",
   "execution_count": 4,
   "metadata": {},
   "outputs": [],
   "source": [
    "start_t = time.time()\n",
    "p.collect()\n",
    "end_t = time.time()\n",
    "pl_read_spend = end_t - start_t\n",
    "spend_records[\"pl_read\"] = pl_read_spend"
   ]
  },
  {
   "cell_type": "code",
   "execution_count": 5,
   "metadata": {},
   "outputs": [],
   "source": [
    "start_t = time.time()\n",
    "p.with_columns(\n",
    "    plta.sma(timeperiod=5).over(\"Symbol\").alias(\"sma5\"),\n",
    ").collect()\n",
    "end_t = time.time()\n",
    "pl_sma_spend_t = end_t - start_t\n",
    "spend_records[\"pl_sma\"] = pl_sma_spend_t"
   ]
  },
  {
   "cell_type": "code",
   "execution_count": 6,
   "metadata": {},
   "outputs": [],
   "source": [
    "start_t = time.time()\n",
    "df = (\n",
    "    pd.read_parquet(\"us_market_cap2000.parquet\")\n",
    "    .set_index([\"Ticker\", \"Date\"])\n",
    "    .rename(columns={c: c.lower() for c in [\"Open\", \"High\", \"Low\", \"Close\"]})\n",
    ")\n",
    "end_t = time.time()\n",
    "pd_read_spend = end_t - start_t\n",
    "spend_records[\"pd_read\"] = pd_read_spend"
   ]
  },
  {
   "cell_type": "code",
   "execution_count": 7,
   "metadata": {},
   "outputs": [],
   "source": [
    "start_t = time.time()\n",
    "df[\"sma5\"] = df.groupby(\"Ticker\")[\"close\"].transform(lambda x: ta.SMA(x, timeperiod=5))\n",
    "end_t = time.time()\n",
    "pd_sma_spend_t = end_t - start_t\n",
    "spend_records[\"pd_sma\"] = pd_sma_spend_t"
   ]
  },
  {
   "cell_type": "code",
   "execution_count": 8,
   "metadata": {},
   "outputs": [],
   "source": [
    "start_t = time.time()\n",
    "p.with_columns(\n",
    "    plta.macd(fastperiod=10, slowperiod=20, signalperiod=5).over(\"Symbol\").alias(\"macd\"),\n",
    ").with_columns(\n",
    "    pl.col(\"macd\").struct.field(\"macd\"),\n",
    "    pl.col(\"macd\").struct.field(\"macdsignal\"),\n",
    "    pl.col(\"macd\").struct.field(\"macdhist\"),\n",
    ").collect()\n",
    "end_t = time.time()\n",
    "pl_macd_spend_t = end_t - start_t\n",
    "spend_records[\"pl_macd\"] = pl_macd_spend_t"
   ]
  },
  {
   "cell_type": "code",
   "execution_count": 9,
   "metadata": {},
   "outputs": [],
   "source": [
    "start_t = time.time()\n",
    "g = df.groupby(\"Ticker\")[\"close\"]\n",
    "df[\"macd\"] = g.transform(lambda x: ta.MACD(x, fastperiod=10, slowperiod=20, signalperiod=5)[0])\n",
    "df[\"macdsignal\"] = g.transform(\n",
    "    lambda x: ta.MACD(x, fastperiod=10, slowperiod=20, signalperiod=5)[1]\n",
    ")\n",
    "df[\"macdhist\"] = g.transform(lambda x: ta.MACD(x, fastperiod=10, slowperiod=20, signalperiod=5)[2])\n",
    "end_t = time.time()\n",
    "pd_macd_spend_t = end_t - start_t\n",
    "spend_records[\"pd_macd\"] = pd_macd_spend_t"
   ]
  },
  {
   "cell_type": "code",
   "execution_count": 10,
   "metadata": {},
   "outputs": [],
   "source": [
    "start_t = time.time()\n",
    "p.with_columns(\n",
    "    plta.stoch(\n",
    "        pl.col(\"high\"),\n",
    "        pl.col(\"low\"),\n",
    "        pl.col(\"close\"),\n",
    "        fastk_period=14,\n",
    "        slowk_period=7,\n",
    "        slowd_period=7,\n",
    "    )\n",
    "    .over(\"Symbol\")\n",
    "    .alias(\"stoch\"),\n",
    ").with_columns(\n",
    "    pl.col(\"stoch\").struct.field(\"slowk\"),\n",
    "    pl.col(\"stoch\").struct.field(\"slowd\"),\n",
    ").select(pl.exclude(\"stoch\")).collect()\n",
    "end_t = time.time()\n",
    "pl_stoch_spend_t = end_t - start_t\n",
    "spend_records[\"pl_stoch\"] = pl_stoch_spend_t"
   ]
  },
  {
   "cell_type": "code",
   "execution_count": 11,
   "metadata": {},
   "outputs": [],
   "source": [
    "start_t = time.time()\n",
    "g = df.groupby(\"Ticker\")\n",
    "df[\"slowk\"] = g.apply(\n",
    "    lambda x: ta.STOCH(x, fastk_period=14, slowk_period=7, slowd_period=7)\n",
    ").droplevel(0)[\"slowk\"]\n",
    "df[\"slowd\"] = g.apply(\n",
    "    lambda x: ta.STOCH(x, fastk_period=14, slowk_period=7, slowd_period=7)\n",
    ").droplevel(0)[\"slowd\"]\n",
    "end_t = time.time()\n",
    "pd_stoch_spend_t = end_t - start_t\n",
    "spend_records[\"pd_stoch\"] = pd_stoch_spend_t"
   ]
  },
  {
   "cell_type": "code",
   "execution_count": 12,
   "metadata": {},
   "outputs": [],
   "source": [
    "start_t = time.time()\n",
    "p.with_columns(\n",
    "    plta.wclprice().over(\"Symbol\").alias(\"wclprice\"),\n",
    ").collect()\n",
    "end_t = time.time()\n",
    "pl_wclprice_spend_t = end_t - start_t\n",
    "spend_records[\"pl_wclprice\"] = pl_wclprice_spend_t"
   ]
  },
  {
   "cell_type": "code",
   "execution_count": 13,
   "metadata": {},
   "outputs": [],
   "source": [
    "start_t = time.time()\n",
    "df[\"wclprice\"] = df.groupby(\"Ticker\").apply(lambda x: ta.WCLPRICE(x)).droplevel(0)\n",
    "end_t = time.time()\n",
    "pd_wclprice_spend_t = end_t - start_t\n",
    "spend_records[\"pd_wclprice\"] = pd_wclprice_spend_t"
   ]
  },
  {
   "cell_type": "code",
   "execution_count": 24,
   "metadata": {},
   "outputs": [],
   "source": [
    "df_bench = pl.DataFrame(\n",
    "    {\n",
    "        \"kind\": [k.split(\"_\")[0] for k in spend_records.keys()],\n",
    "        \"op\": [k.split(\"_\")[1] for k in spend_records.keys()],\n",
    "        \"time\": [v for v in spend_records.values()],\n",
    "    }\n",
    ").with_columns(\n",
    "    pl.when(pl.col(\"kind\")==\"pl\").then(pl.lit(\"polars\")).otherwise(pl.lit(\"pandas\")).alias(\"stack\")\n",
    ")"
   ]
  },
  {
   "cell_type": "code",
   "execution_count": 25,
   "metadata": {},
   "outputs": [
    {
     "data": {
      "text/html": [
       "<div><style>\n",
       ".dataframe > thead > tr,\n",
       ".dataframe > tbody > tr {\n",
       "  text-align: right;\n",
       "  white-space: pre-wrap;\n",
       "}\n",
       "</style>\n",
       "<small>shape: (10, 4)</small><table border=\"1\" class=\"dataframe\"><thead><tr><th>kind</th><th>op</th><th>time</th><th>stack</th></tr><tr><td>str</td><td>str</td><td>f64</td><td>str</td></tr></thead><tbody><tr><td>&quot;pl&quot;</td><td>&quot;read&quot;</td><td>0.427506</td><td>&quot;polars&quot;</td></tr><tr><td>&quot;pl&quot;</td><td>&quot;sma&quot;</td><td>0.399857</td><td>&quot;polars&quot;</td></tr><tr><td>&quot;pd&quot;</td><td>&quot;read&quot;</td><td>1.490565</td><td>&quot;pandas&quot;</td></tr><tr><td>&quot;pd&quot;</td><td>&quot;sma&quot;</td><td>1.955835</td><td>&quot;pandas&quot;</td></tr><tr><td>&quot;pl&quot;</td><td>&quot;macd&quot;</td><td>0.63583</td><td>&quot;polars&quot;</td></tr><tr><td>&quot;pd&quot;</td><td>&quot;macd&quot;</td><td>5.529319</td><td>&quot;pandas&quot;</td></tr><tr><td>&quot;pl&quot;</td><td>&quot;stoch&quot;</td><td>1.062676</td><td>&quot;polars&quot;</td></tr><tr><td>&quot;pd&quot;</td><td>&quot;stoch&quot;</td><td>8.159397</td><td>&quot;pandas&quot;</td></tr><tr><td>&quot;pl&quot;</td><td>&quot;wclprice&quot;</td><td>0.607319</td><td>&quot;polars&quot;</td></tr><tr><td>&quot;pd&quot;</td><td>&quot;wclprice&quot;</td><td>3.896856</td><td>&quot;pandas&quot;</td></tr></tbody></table></div>"
      ],
      "text/plain": [
       "shape: (10, 4)\n",
       "┌──────┬──────────┬──────────┬────────┐\n",
       "│ kind ┆ op       ┆ time     ┆ stack  │\n",
       "│ ---  ┆ ---      ┆ ---      ┆ ---    │\n",
       "│ str  ┆ str      ┆ f64      ┆ str    │\n",
       "╞══════╪══════════╪══════════╪════════╡\n",
       "│ pl   ┆ read     ┆ 0.427506 ┆ polars │\n",
       "│ pl   ┆ sma      ┆ 0.399857 ┆ polars │\n",
       "│ pd   ┆ read     ┆ 1.490565 ┆ pandas │\n",
       "│ pd   ┆ sma      ┆ 1.955835 ┆ pandas │\n",
       "│ pl   ┆ macd     ┆ 0.63583  ┆ polars │\n",
       "│ pd   ┆ macd     ┆ 5.529319 ┆ pandas │\n",
       "│ pl   ┆ stoch    ┆ 1.062676 ┆ polars │\n",
       "│ pd   ┆ stoch    ┆ 8.159397 ┆ pandas │\n",
       "│ pl   ┆ wclprice ┆ 0.607319 ┆ polars │\n",
       "│ pd   ┆ wclprice ┆ 3.896856 ┆ pandas │\n",
       "└──────┴──────────┴──────────┴────────┘"
      ]
     },
     "execution_count": 25,
     "metadata": {},
     "output_type": "execute_result"
    }
   ],
   "source": [
    "df_bench"
   ]
  },
  {
   "cell_type": "code",
   "execution_count": 27,
   "metadata": {},
   "outputs": [
    {
     "data": {},
     "metadata": {},
     "output_type": "display_data"
    },
    {
     "data": {
      "application/vnd.holoviews_exec.v0+json": "",
      "text/html": [
       "<div id='p1193'>\n",
       "  <div id=\"bf72cd2f-d5db-4ee7-88a5-e366ecb0ca41\" data-root-id=\"p1193\" style=\"display: contents;\"></div>\n",
       "</div>\n",
       "<script type=\"application/javascript\">(function(root) {\n",
       "  var docs_json = {\"0d6e347b-9b56-4225-9e07-8a39ca3f8cf6\":{\"version\":\"3.4.1\",\"title\":\"Bokeh Application\",\"roots\":[{\"type\":\"object\",\"name\":\"Row\",\"id\":\"p1193\",\"attributes\":{\"name\":\"Row01447\",\"tags\":[\"embedded\"],\"stylesheets\":[\"\\n:host(.pn-loading):before, .pn-loading:before {\\n  background-color: #c3c3c3;\\n  mask-size: auto calc(min(50%, 400px));\\n  -webkit-mask-size: auto calc(min(50%, 400px));\\n}\",{\"type\":\"object\",\"name\":\"ImportedStyleSheet\",\"id\":\"p1196\",\"attributes\":{\"url\":\"https://cdn.holoviz.org/panel/1.4.2/dist/css/loading.css\"}},{\"type\":\"object\",\"name\":\"ImportedStyleSheet\",\"id\":\"p1253\",\"attributes\":{\"url\":\"https://cdn.holoviz.org/panel/1.4.2/dist/css/listpanel.css\"}},{\"type\":\"object\",\"name\":\"ImportedStyleSheet\",\"id\":\"p1194\",\"attributes\":{\"url\":\"https://cdn.holoviz.org/panel/1.4.2/dist/bundled/theme/default.css\"}},{\"type\":\"object\",\"name\":\"ImportedStyleSheet\",\"id\":\"p1195\",\"attributes\":{\"url\":\"https://cdn.holoviz.org/panel/1.4.2/dist/bundled/theme/native.css\"}}],\"min_width\":700,\"margin\":0,\"sizing_mode\":\"stretch_width\",\"align\":\"start\",\"children\":[{\"type\":\"object\",\"name\":\"Spacer\",\"id\":\"p1197\",\"attributes\":{\"name\":\"HSpacer01454\",\"stylesheets\":[\"\\n:host(.pn-loading):before, .pn-loading:before {\\n  background-color: #c3c3c3;\\n  mask-size: auto calc(min(50%, 400px));\\n  -webkit-mask-size: auto calc(min(50%, 400px));\\n}\",{\"id\":\"p1196\"},{\"id\":\"p1194\"},{\"id\":\"p1195\"}],\"margin\":0,\"sizing_mode\":\"stretch_width\",\"align\":\"start\"}},{\"type\":\"object\",\"name\":\"Figure\",\"id\":\"p1205\",\"attributes\":{\"width\":700,\"height\":300,\"margin\":[5,10],\"sizing_mode\":\"fixed\",\"align\":\"start\",\"x_range\":{\"type\":\"object\",\"name\":\"FactorRange\",\"id\":\"p1198\",\"attributes\":{\"tags\":[[[\"op\",\"op\",null],[\"stack\",\"stack\",null]],[]],\"factors\":[[\"read\",\"pandas\"],[\"read\",\"polars\"],[\"sma\",\"pandas\"],[\"sma\",\"polars\"],[\"macd\",\"pandas\"],[\"macd\",\"polars\"],[\"stoch\",\"pandas\"],[\"stoch\",\"polars\"],[\"wclprice\",\"pandas\"],[\"wclprice\",\"polars\"]]}},\"y_range\":{\"type\":\"object\",\"name\":\"Range1d\",\"id\":\"p1199\",\"attributes\":{\"tags\":[[[\"time\",\"time\",null]],{\"type\":\"map\",\"entries\":[[\"invert_yaxis\",false],[\"autorange\",false]]}],\"end\":8.935350894927979,\"reset_start\":0.0,\"reset_end\":8.935350894927979}},\"x_scale\":{\"type\":\"object\",\"name\":\"CategoricalScale\",\"id\":\"p1215\"},\"y_scale\":{\"type\":\"object\",\"name\":\"LinearScale\",\"id\":\"p1216\"},\"title\":{\"type\":\"object\",\"name\":\"Title\",\"id\":\"p1208\",\"attributes\":{\"text_color\":\"black\",\"text_font_size\":\"12pt\"}},\"renderers\":[{\"type\":\"object\",\"name\":\"GlyphRenderer\",\"id\":\"p1246\",\"attributes\":{\"data_source\":{\"type\":\"object\",\"name\":\"ColumnDataSource\",\"id\":\"p1237\",\"attributes\":{\"selected\":{\"type\":\"object\",\"name\":\"Selection\",\"id\":\"p1238\",\"attributes\":{\"indices\":[],\"line_indices\":[]}},\"selection_policy\":{\"type\":\"object\",\"name\":\"UnionRenderers\",\"id\":\"p1239\"},\"data\":{\"type\":\"map\",\"entries\":[[\"xoffsets\",[[\"read\",\"polars\"],[\"sma\",\"polars\"],[\"macd\",\"polars\"],[\"stoch\",\"polars\"],[\"wclprice\",\"polars\"],[\"read\",\"pandas\"],[\"sma\",\"pandas\"],[\"macd\",\"pandas\"],[\"stoch\",\"pandas\"],[\"wclprice\",\"pandas\"]]],[\"time\",{\"type\":\"ndarray\",\"array\":{\"type\":\"bytes\",\"data\":\"AAAAAEJc2z8AAAAAQZfZPwAAAIC4WOQ/AAAAgLgA8T8AAAAAKG/jPwAAAABb2fc/AAAAwBlL/z8AAADABR4WQAAAAHicUSBAAAAAwMIsD0A=\"},\"shape\":[10],\"dtype\":\"float64\",\"order\":\"little\"}],[\"op\",[\"read\",\"sma\",\"macd\",\"stoch\",\"wclprice\",\"read\",\"sma\",\"macd\",\"stoch\",\"wclprice\"]],[\"stack\",[\"polars\",\"polars\",\"polars\",\"polars\",\"polars\",\"pandas\",\"pandas\",\"pandas\",\"pandas\",\"pandas\"]]]}}},\"view\":{\"type\":\"object\",\"name\":\"CDSView\",\"id\":\"p1247\",\"attributes\":{\"filter\":{\"type\":\"object\",\"name\":\"AllIndices\",\"id\":\"p1248\"}}},\"glyph\":{\"type\":\"object\",\"name\":\"VBar\",\"id\":\"p1243\",\"attributes\":{\"tags\":[\"apply_ranges\"],\"x\":{\"type\":\"field\",\"field\":\"xoffsets\"},\"width\":{\"type\":\"value\",\"value\":0.8},\"top\":{\"type\":\"field\",\"field\":\"time\"},\"fill_color\":{\"type\":\"field\",\"field\":\"stack\",\"transform\":{\"type\":\"object\",\"name\":\"CategoricalColorMapper\",\"id\":\"p1236\",\"attributes\":{\"palette\":[\"#30a2da\",\"#fc4f30\"],\"factors\":[\"polars\",\"pandas\"]}}},\"hatch_color\":{\"type\":\"field\",\"field\":\"stack\",\"transform\":{\"id\":\"p1236\"}}}},\"selection_glyph\":{\"type\":\"object\",\"name\":\"VBar\",\"id\":\"p1249\",\"attributes\":{\"tags\":[\"apply_ranges\"],\"x\":{\"type\":\"field\",\"field\":\"xoffsets\"},\"width\":{\"type\":\"value\",\"value\":0.8},\"bottom\":{\"type\":\"value\",\"value\":0},\"top\":{\"type\":\"field\",\"field\":\"time\"},\"line_color\":{\"type\":\"value\",\"value\":\"black\"},\"line_alpha\":{\"type\":\"value\",\"value\":1.0},\"line_width\":{\"type\":\"value\",\"value\":1},\"line_join\":{\"type\":\"value\",\"value\":\"bevel\"},\"line_cap\":{\"type\":\"value\",\"value\":\"butt\"},\"line_dash\":{\"type\":\"value\",\"value\":[]},\"line_dash_offset\":{\"type\":\"value\",\"value\":0},\"fill_color\":{\"type\":\"field\",\"field\":\"stack\",\"transform\":{\"id\":\"p1236\"}},\"fill_alpha\":{\"type\":\"value\",\"value\":1.0},\"hatch_color\":{\"type\":\"field\",\"field\":\"stack\",\"transform\":{\"id\":\"p1236\"}},\"hatch_alpha\":{\"type\":\"value\",\"value\":1.0},\"hatch_scale\":{\"type\":\"value\",\"value\":12.0},\"hatch_pattern\":{\"type\":\"value\",\"value\":null},\"hatch_weight\":{\"type\":\"value\",\"value\":1.0}}},\"nonselection_glyph\":{\"type\":\"object\",\"name\":\"VBar\",\"id\":\"p1244\",\"attributes\":{\"tags\":[\"apply_ranges\"],\"x\":{\"type\":\"field\",\"field\":\"xoffsets\"},\"width\":{\"type\":\"value\",\"value\":0.8},\"top\":{\"type\":\"field\",\"field\":\"time\"},\"line_alpha\":{\"type\":\"value\",\"value\":0.1},\"fill_color\":{\"type\":\"field\",\"field\":\"stack\",\"transform\":{\"id\":\"p1236\"}},\"fill_alpha\":{\"type\":\"value\",\"value\":0.1},\"hatch_color\":{\"type\":\"field\",\"field\":\"stack\",\"transform\":{\"id\":\"p1236\"}},\"hatch_alpha\":{\"type\":\"value\",\"value\":0.1}}},\"muted_glyph\":{\"type\":\"object\",\"name\":\"VBar\",\"id\":\"p1245\",\"attributes\":{\"tags\":[\"apply_ranges\"],\"x\":{\"type\":\"field\",\"field\":\"xoffsets\"},\"width\":{\"type\":\"value\",\"value\":0.8},\"top\":{\"type\":\"field\",\"field\":\"time\"},\"line_alpha\":{\"type\":\"value\",\"value\":0.2},\"fill_color\":{\"type\":\"field\",\"field\":\"stack\",\"transform\":{\"id\":\"p1236\"}},\"fill_alpha\":{\"type\":\"value\",\"value\":0.2},\"hatch_color\":{\"type\":\"field\",\"field\":\"stack\",\"transform\":{\"id\":\"p1236\"}},\"hatch_alpha\":{\"type\":\"value\",\"value\":0.2}}}}}],\"toolbar\":{\"type\":\"object\",\"name\":\"Toolbar\",\"id\":\"p1214\",\"attributes\":{\"tools\":[{\"type\":\"object\",\"name\":\"WheelZoomTool\",\"id\":\"p1203\",\"attributes\":{\"tags\":[\"hv_created\"],\"renderers\":\"auto\",\"zoom_together\":\"none\"}},{\"type\":\"object\",\"name\":\"HoverTool\",\"id\":\"p1204\",\"attributes\":{\"tags\":[\"hv_created\"],\"renderers\":[{\"id\":\"p1246\"}],\"tooltips\":[[\"op\",\"@{op}\"],[\"stack\",\"@{stack}\"],[\"time\",\"@{time}\"]]}},{\"type\":\"object\",\"name\":\"SaveTool\",\"id\":\"p1227\"},{\"type\":\"object\",\"name\":\"PanTool\",\"id\":\"p1228\"},{\"type\":\"object\",\"name\":\"BoxZoomTool\",\"id\":\"p1229\",\"attributes\":{\"overlay\":{\"type\":\"object\",\"name\":\"BoxAnnotation\",\"id\":\"p1230\",\"attributes\":{\"syncable\":false,\"level\":\"overlay\",\"visible\":false,\"left\":{\"type\":\"number\",\"value\":\"nan\"},\"right\":{\"type\":\"number\",\"value\":\"nan\"},\"top\":{\"type\":\"number\",\"value\":\"nan\"},\"bottom\":{\"type\":\"number\",\"value\":\"nan\"},\"left_units\":\"canvas\",\"right_units\":\"canvas\",\"top_units\":\"canvas\",\"bottom_units\":\"canvas\",\"line_color\":\"black\",\"line_alpha\":1.0,\"line_width\":2,\"line_dash\":[4,4],\"fill_color\":\"lightgrey\",\"fill_alpha\":0.5}}}},{\"type\":\"object\",\"name\":\"ResetTool\",\"id\":\"p1235\"}],\"active_drag\":{\"id\":\"p1228\"},\"active_scroll\":{\"id\":\"p1203\"}}},\"left\":[{\"type\":\"object\",\"name\":\"LinearAxis\",\"id\":\"p1222\",\"attributes\":{\"ticker\":{\"type\":\"object\",\"name\":\"BasicTicker\",\"id\":\"p1223\",\"attributes\":{\"mantissas\":[1,2,5]}},\"formatter\":{\"type\":\"object\",\"name\":\"BasicTickFormatter\",\"id\":\"p1224\"},\"axis_label\":\"time\",\"major_label_policy\":{\"type\":\"object\",\"name\":\"AllLabels\",\"id\":\"p1225\"}}}],\"below\":[{\"type\":\"object\",\"name\":\"CategoricalAxis\",\"id\":\"p1217\",\"attributes\":{\"ticker\":{\"type\":\"object\",\"name\":\"CategoricalTicker\",\"id\":\"p1218\"},\"formatter\":{\"type\":\"object\",\"name\":\"CategoricalTickFormatter\",\"id\":\"p1219\"},\"axis_label\":\"op, stack\",\"major_label_policy\":{\"type\":\"object\",\"name\":\"AllLabels\",\"id\":\"p1220\"}}}],\"center\":[{\"type\":\"object\",\"name\":\"Grid\",\"id\":\"p1221\",\"attributes\":{\"axis\":{\"id\":\"p1217\"},\"grid_line_color\":null}},{\"type\":\"object\",\"name\":\"Grid\",\"id\":\"p1226\",\"attributes\":{\"dimension\":1,\"axis\":{\"id\":\"p1222\"},\"grid_line_color\":null}}],\"min_border_top\":10,\"min_border_bottom\":10,\"min_border_left\":10,\"min_border_right\":10,\"output_backend\":\"webgl\"}},{\"type\":\"object\",\"name\":\"Spacer\",\"id\":\"p1251\",\"attributes\":{\"name\":\"HSpacer01455\",\"stylesheets\":[\"\\n:host(.pn-loading):before, .pn-loading:before {\\n  background-color: #c3c3c3;\\n  mask-size: auto calc(min(50%, 400px));\\n  -webkit-mask-size: auto calc(min(50%, 400px));\\n}\",{\"id\":\"p1196\"},{\"id\":\"p1194\"},{\"id\":\"p1195\"}],\"margin\":0,\"sizing_mode\":\"stretch_width\",\"align\":\"start\"}}]}}],\"defs\":[{\"type\":\"model\",\"name\":\"ReactiveHTML1\"},{\"type\":\"model\",\"name\":\"FlexBox1\",\"properties\":[{\"name\":\"align_content\",\"kind\":\"Any\",\"default\":\"flex-start\"},{\"name\":\"align_items\",\"kind\":\"Any\",\"default\":\"flex-start\"},{\"name\":\"flex_direction\",\"kind\":\"Any\",\"default\":\"row\"},{\"name\":\"flex_wrap\",\"kind\":\"Any\",\"default\":\"wrap\"},{\"name\":\"gap\",\"kind\":\"Any\",\"default\":\"\"},{\"name\":\"justify_content\",\"kind\":\"Any\",\"default\":\"flex-start\"}]},{\"type\":\"model\",\"name\":\"FloatPanel1\",\"properties\":[{\"name\":\"config\",\"kind\":\"Any\",\"default\":{\"type\":\"map\"}},{\"name\":\"contained\",\"kind\":\"Any\",\"default\":true},{\"name\":\"position\",\"kind\":\"Any\",\"default\":\"right-top\"},{\"name\":\"offsetx\",\"kind\":\"Any\",\"default\":null},{\"name\":\"offsety\",\"kind\":\"Any\",\"default\":null},{\"name\":\"theme\",\"kind\":\"Any\",\"default\":\"primary\"},{\"name\":\"status\",\"kind\":\"Any\",\"default\":\"normalized\"}]},{\"type\":\"model\",\"name\":\"GridStack1\",\"properties\":[{\"name\":\"mode\",\"kind\":\"Any\",\"default\":\"warn\"},{\"name\":\"ncols\",\"kind\":\"Any\",\"default\":null},{\"name\":\"nrows\",\"kind\":\"Any\",\"default\":null},{\"name\":\"allow_resize\",\"kind\":\"Any\",\"default\":true},{\"name\":\"allow_drag\",\"kind\":\"Any\",\"default\":true},{\"name\":\"state\",\"kind\":\"Any\",\"default\":[]}]},{\"type\":\"model\",\"name\":\"drag1\",\"properties\":[{\"name\":\"slider_width\",\"kind\":\"Any\",\"default\":5},{\"name\":\"slider_color\",\"kind\":\"Any\",\"default\":\"black\"},{\"name\":\"value\",\"kind\":\"Any\",\"default\":50}]},{\"type\":\"model\",\"name\":\"click1\",\"properties\":[{\"name\":\"terminal_output\",\"kind\":\"Any\",\"default\":\"\"},{\"name\":\"debug_name\",\"kind\":\"Any\",\"default\":\"\"},{\"name\":\"clears\",\"kind\":\"Any\",\"default\":0}]},{\"type\":\"model\",\"name\":\"FastWrapper1\",\"properties\":[{\"name\":\"object\",\"kind\":\"Any\",\"default\":null},{\"name\":\"style\",\"kind\":\"Any\",\"default\":null}]},{\"type\":\"model\",\"name\":\"NotificationAreaBase1\",\"properties\":[{\"name\":\"js_events\",\"kind\":\"Any\",\"default\":{\"type\":\"map\"}},{\"name\":\"position\",\"kind\":\"Any\",\"default\":\"bottom-right\"},{\"name\":\"_clear\",\"kind\":\"Any\",\"default\":0}]},{\"type\":\"model\",\"name\":\"NotificationArea1\",\"properties\":[{\"name\":\"js_events\",\"kind\":\"Any\",\"default\":{\"type\":\"map\"}},{\"name\":\"notifications\",\"kind\":\"Any\",\"default\":[]},{\"name\":\"position\",\"kind\":\"Any\",\"default\":\"bottom-right\"},{\"name\":\"_clear\",\"kind\":\"Any\",\"default\":0},{\"name\":\"types\",\"kind\":\"Any\",\"default\":[{\"type\":\"map\",\"entries\":[[\"type\",\"warning\"],[\"background\",\"#ffc107\"],[\"icon\",{\"type\":\"map\",\"entries\":[[\"className\",\"fas fa-exclamation-triangle\"],[\"tagName\",\"i\"],[\"color\",\"white\"]]}]]},{\"type\":\"map\",\"entries\":[[\"type\",\"info\"],[\"background\",\"#007bff\"],[\"icon\",{\"type\":\"map\",\"entries\":[[\"className\",\"fas fa-info-circle\"],[\"tagName\",\"i\"],[\"color\",\"white\"]]}]]}]}]},{\"type\":\"model\",\"name\":\"Notification\",\"properties\":[{\"name\":\"background\",\"kind\":\"Any\",\"default\":null},{\"name\":\"duration\",\"kind\":\"Any\",\"default\":3000},{\"name\":\"icon\",\"kind\":\"Any\",\"default\":null},{\"name\":\"message\",\"kind\":\"Any\",\"default\":\"\"},{\"name\":\"notification_type\",\"kind\":\"Any\",\"default\":null},{\"name\":\"_destroyed\",\"kind\":\"Any\",\"default\":false}]},{\"type\":\"model\",\"name\":\"TemplateActions1\",\"properties\":[{\"name\":\"open_modal\",\"kind\":\"Any\",\"default\":0},{\"name\":\"close_modal\",\"kind\":\"Any\",\"default\":0}]},{\"type\":\"model\",\"name\":\"BootstrapTemplateActions1\",\"properties\":[{\"name\":\"open_modal\",\"kind\":\"Any\",\"default\":0},{\"name\":\"close_modal\",\"kind\":\"Any\",\"default\":0}]},{\"type\":\"model\",\"name\":\"TemplateEditor1\",\"properties\":[{\"name\":\"layout\",\"kind\":\"Any\",\"default\":[]}]},{\"type\":\"model\",\"name\":\"MaterialTemplateActions1\",\"properties\":[{\"name\":\"open_modal\",\"kind\":\"Any\",\"default\":0},{\"name\":\"close_modal\",\"kind\":\"Any\",\"default\":0}]},{\"type\":\"model\",\"name\":\"copy_to_clipboard1\",\"properties\":[{\"name\":\"fill\",\"kind\":\"Any\",\"default\":\"none\"},{\"name\":\"value\",\"kind\":\"Any\",\"default\":null}]}]}};\n",
       "  var render_items = [{\"docid\":\"0d6e347b-9b56-4225-9e07-8a39ca3f8cf6\",\"roots\":{\"p1193\":\"bf72cd2f-d5db-4ee7-88a5-e366ecb0ca41\"},\"root_ids\":[\"p1193\"]}];\n",
       "  var docs = Object.values(docs_json)\n",
       "  if (!docs) {\n",
       "    return\n",
       "  }\n",
       "  const py_version = docs[0].version.replace('rc', '-rc.').replace('.dev', '-dev.')\n",
       "  function embed_document(root) {\n",
       "    var Bokeh = get_bokeh(root)\n",
       "    Bokeh.embed.embed_items_notebook(docs_json, render_items);\n",
       "    for (const render_item of render_items) {\n",
       "      for (const root_id of render_item.root_ids) {\n",
       "\tconst id_el = document.getElementById(root_id)\n",
       "\tif (id_el.children.length && (id_el.children[0].className === 'bk-root')) {\n",
       "\t  const root_el = id_el.children[0]\n",
       "\t  root_el.id = root_el.id + '-rendered'\n",
       "\t}\n",
       "      }\n",
       "    }\n",
       "  }\n",
       "  function get_bokeh(root) {\n",
       "    if (root.Bokeh === undefined) {\n",
       "      return null\n",
       "    } else if (root.Bokeh.version !== py_version) {\n",
       "      if (root.Bokeh.versions === undefined || !root.Bokeh.versions.has(py_version)) {\n",
       "\treturn null\n",
       "      }\n",
       "      return root.Bokeh.versions.get(py_version);\n",
       "    } else if (root.Bokeh.version === py_version) {\n",
       "      return root.Bokeh\n",
       "    }\n",
       "    return null\n",
       "  }\n",
       "  function is_loaded(root) {\n",
       "    var Bokeh = get_bokeh(root)\n",
       "    return (Bokeh != null && Bokeh.Panel !== undefined)\n",
       "  }\n",
       "  if (is_loaded(root)) {\n",
       "    embed_document(root);\n",
       "  } else {\n",
       "    var attempts = 0;\n",
       "    var timer = setInterval(function(root) {\n",
       "      if (is_loaded(root)) {\n",
       "        clearInterval(timer);\n",
       "        embed_document(root);\n",
       "      } else if (document.readyState == \"complete\") {\n",
       "        attempts++;\n",
       "        if (attempts > 200) {\n",
       "          clearInterval(timer);\n",
       "\t  var Bokeh = get_bokeh(root)\n",
       "\t  if (Bokeh == null || Bokeh.Panel == null) {\n",
       "            console.warn(\"Panel: ERROR: Unable to run Panel code because Bokeh or Panel library is missing\");\n",
       "\t  } else {\n",
       "\t    console.warn(\"Panel: WARNING: Attempting to render but not all required libraries could be resolved.\")\n",
       "\t    embed_document(root)\n",
       "\t  }\n",
       "        }\n",
       "      }\n",
       "    }, 25, root)\n",
       "  }\n",
       "})(window);</script>"
      ],
      "text/plain": [
       ":Bars   [op,stack]   (time)"
      ]
     },
     "execution_count": 27,
     "metadata": {
      "application/vnd.holoviews_exec.v0+json": {
       "id": "p1193"
      }
     },
     "output_type": "execute_result"
    }
   ],
   "source": [
    "df_bench.plot.bar(x=\"op\", y=\"time\", by=\"stack\")"
   ]
  },
  {
   "cell_type": "code",
   "execution_count": null,
   "metadata": {},
   "outputs": [],
   "source": []
  }
 ],
 "metadata": {
  "kernelspec": {
   "display_name": "dev",
   "language": "python",
   "name": "dev"
  },
  "language_info": {
   "codemirror_mode": {
    "name": "ipython",
    "version": 3
   },
   "file_extension": ".py",
   "mimetype": "text/x-python",
   "name": "python",
   "nbconvert_exporter": "python",
   "pygments_lexer": "ipython3",
   "version": "3.10.14"
  }
 },
 "nbformat": 4,
 "nbformat_minor": 4
}
